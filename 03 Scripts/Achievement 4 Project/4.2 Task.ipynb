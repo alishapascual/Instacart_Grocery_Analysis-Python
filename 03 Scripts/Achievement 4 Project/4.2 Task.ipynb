{
 "cells": [
  {
   "cell_type": "markdown",
   "id": "6852f352",
   "metadata": {},
   "source": [
    "# Importing Libraries"
   ]
  },
  {
   "cell_type": "code",
   "execution_count": 1,
   "id": "3a58a0f9",
   "metadata": {},
   "outputs": [],
   "source": [
    "# Import libraries"
   ]
  },
  {
   "cell_type": "code",
   "execution_count": 2,
   "id": "8ac1cf8f",
   "metadata": {},
   "outputs": [],
   "source": [
    "import pandas as pd\n",
    "import numpy as np\n",
    "import os"
   ]
  },
  {
   "cell_type": "markdown",
   "id": "bc4441e6",
   "metadata": {},
   "source": [
    "# Python data types"
   ]
  },
  {
   "cell_type": "code",
   "execution_count": 1,
   "id": "e5afdcf9",
   "metadata": {},
   "outputs": [],
   "source": [
    "# i am assigning the value 50 to the value a.\n",
    "a = 50"
   ]
  },
  {
   "cell_type": "code",
   "execution_count": 2,
   "id": "ffe901cc",
   "metadata": {},
   "outputs": [],
   "source": [
    "# i am assigning the value 50 to the value b.\n",
    "b = 50"
   ]
  },
  {
   "cell_type": "code",
   "execution_count": 3,
   "id": "6bf6490d",
   "metadata": {},
   "outputs": [],
   "source": [
    "# i am assigning the value 100 to the value c.\n",
    "c = 100"
   ]
  },
  {
   "cell_type": "code",
   "execution_count": 4,
   "id": "b12168c5",
   "metadata": {},
   "outputs": [],
   "source": [
    "# i am assigning the value 200 to the value d.\n",
    "d = 200"
   ]
  },
  {
   "cell_type": "code",
   "execution_count": 5,
   "id": "974fb3e1",
   "metadata": {},
   "outputs": [
    {
     "data": {
      "text/plain": [
       "100"
      ]
     },
     "execution_count": 5,
     "metadata": {},
     "output_type": "execute_result"
    }
   ],
   "source": [
    "# i am adding values a and b to try and get 100.\n",
    "a + b"
   ]
  },
  {
   "cell_type": "code",
   "execution_count": 6,
   "id": "c1685918",
   "metadata": {},
   "outputs": [
    {
     "data": {
      "text/plain": [
       "100"
      ]
     },
     "execution_count": 6,
     "metadata": {},
     "output_type": "execute_result"
    }
   ],
   "source": [
    "# i am subtracting the values c from d to try and get the value 100.\n",
    "d - c"
   ]
  },
  {
   "cell_type": "code",
   "execution_count": 7,
   "id": "2e742cd2",
   "metadata": {},
   "outputs": [
    {
     "data": {
      "text/plain": [
       "100"
      ]
     },
     "execution_count": 7,
     "metadata": {},
     "output_type": "execute_result"
    }
   ],
   "source": [
    "# i am trying to add and subtract 3 values to try and get a value of 100.\n",
    "(c + d) - d"
   ]
  },
  {
   "cell_type": "code",
   "execution_count": 8,
   "id": "2ab2b8f0",
   "metadata": {},
   "outputs": [],
   "source": [
    "# i chose 1.08 to be my value for a.\n",
    "a = 1.08"
   ]
  },
  {
   "cell_type": "code",
   "execution_count": 9,
   "id": "3cdd1ee1",
   "metadata": {},
   "outputs": [],
   "source": [
    "# i chose 16.95 to be my value for b.\n",
    "b = 16.95"
   ]
  },
  {
   "cell_type": "code",
   "execution_count": 10,
   "id": "4c414f8e",
   "metadata": {},
   "outputs": [
    {
     "data": {
      "text/plain": [
       "15.694444444444443"
      ]
     },
     "execution_count": 10,
     "metadata": {},
     "output_type": "execute_result"
    }
   ],
   "source": [
    "# i'm dividing a from b to see what result i get.\n",
    "b / a"
   ]
  },
  {
   "cell_type": "code",
   "execution_count": 11,
   "id": "64e10667",
   "metadata": {},
   "outputs": [],
   "source": [
    "# first part of a word.\n",
    "a = 'para'"
   ]
  },
  {
   "cell_type": "code",
   "execution_count": 12,
   "id": "6057ebf5",
   "metadata": {},
   "outputs": [],
   "source": [
    "# second part of a word.\n",
    "b = 'gon'"
   ]
  },
  {
   "cell_type": "code",
   "execution_count": 13,
   "id": "fc73f71f",
   "metadata": {},
   "outputs": [
    {
     "data": {
      "text/plain": [
       "'paragon'"
      ]
     },
     "execution_count": 13,
     "metadata": {},
     "output_type": "execute_result"
    }
   ],
   "source": [
    "# adding the first and second parts of a word together to make one whole word.\n",
    "a + b"
   ]
  },
  {
   "cell_type": "code",
   "execution_count": 14,
   "id": "8af43b2d",
   "metadata": {},
   "outputs": [],
   "source": [
    "# first part of my sentence.\n",
    "a = 'Hello my dear. '"
   ]
  },
  {
   "cell_type": "code",
   "execution_count": 15,
   "id": "cff26ec0",
   "metadata": {},
   "outputs": [],
   "source": [
    "# second part of my sentence.\n",
    "b = 'How are you?'"
   ]
  },
  {
   "cell_type": "code",
   "execution_count": 16,
   "id": "e39de142",
   "metadata": {},
   "outputs": [
    {
     "data": {
      "text/plain": [
       "'Hello my dear. How are you?'"
      ]
     },
     "execution_count": 16,
     "metadata": {},
     "output_type": "execute_result"
    }
   ],
   "source": [
    "# my whole sentence.\n",
    "a + b"
   ]
  },
  {
   "cell_type": "code",
   "execution_count": 17,
   "id": "b8b6a07a",
   "metadata": {},
   "outputs": [],
   "source": [
    "# using the word mine for my variable a.\n",
    "a = 'mine'"
   ]
  },
  {
   "cell_type": "code",
   "execution_count": 18,
   "id": "a956b456",
   "metadata": {},
   "outputs": [
    {
     "data": {
      "text/plain": [
       "'minemineminemineminemineminemineminemineminemineminemineminemineminemineminemineminemineminemineminemineminemineminemineminemineminemineminemineminemineminemineminemineminemineminemineminemineminemineminemineminemineminemineminemineminemineminemineminemineminemineminemineminemineminemineminemineminemineminemineminemineminemineminemineminemineminemineminemineminemineminemineminemineminemineminemine'"
      ]
     },
     "execution_count": 18,
     "metadata": {},
     "output_type": "execute_result"
    }
   ],
   "source": [
    "# multiplying the word of my a variable by a 100.\n",
    "a * 100"
   ]
  },
  {
   "cell_type": "code",
   "execution_count": null,
   "id": "4e7659b6",
   "metadata": {},
   "outputs": [],
   "source": []
  }
 ],
 "metadata": {
  "kernelspec": {
   "display_name": "Python 3 (ipykernel)",
   "language": "python",
   "name": "python3"
  },
  "language_info": {
   "codemirror_mode": {
    "name": "ipython",
    "version": 3
   },
   "file_extension": ".py",
   "mimetype": "text/x-python",
   "name": "python",
   "nbconvert_exporter": "python",
   "pygments_lexer": "ipython3",
   "version": "3.10.9"
  }
 },
 "nbformat": 4,
 "nbformat_minor": 5
}
