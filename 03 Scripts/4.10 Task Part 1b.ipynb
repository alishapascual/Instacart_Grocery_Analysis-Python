{
 "cells": [
  {
   "cell_type": "markdown",
   "id": "16a6730f",
   "metadata": {},
   "source": [
    "# 4.10 Task Part 1b"
   ]
  },
  {
   "cell_type": "code",
   "execution_count": 1,
   "id": "6bca6135",
   "metadata": {},
   "outputs": [],
   "source": [
    "# Importing Libraries\n",
    "import pandas as pd\n",
    "import numpy as np\n",
    "import os\n",
    "import matplotlib.pyplot as plt\n",
    "import seaborn as sns\n",
    "import scipy"
   ]
  },
  {
   "cell_type": "markdown",
   "id": "d6178d90",
   "metadata": {},
   "source": [
    "## 1."
   ]
  },
  {
   "cell_type": "code",
   "execution_count": 2,
   "id": "a607e91a",
   "metadata": {},
   "outputs": [],
   "source": [
    "# Making a path to the orders_products_aggregated file.\n",
    "path = r'/Users/terencekeys/Downloads/Shawzz Folder/06-2023 Instacart Basket Analysis'"
   ]
  },
  {
   "cell_type": "code",
   "execution_count": 3,
   "id": "d9b13d58",
   "metadata": {},
   "outputs": [],
   "source": [
    "# Importing the df_merged_4.9.1 pickle file.\n",
    "merged_4_9 = pd.read_csv(os.path.join(path, '02 Data','Prepared Data', 'merged_4_9.csv'), index_col = False)"
   ]
  },
  {
   "cell_type": "code",
   "execution_count": 4,
   "id": "8b8da82a",
   "metadata": {},
   "outputs": [
    {
     "data": {
      "text/html": [
       "<div>\n",
       "<style scoped>\n",
       "    .dataframe tbody tr th:only-of-type {\n",
       "        vertical-align: middle;\n",
       "    }\n",
       "\n",
       "    .dataframe tbody tr th {\n",
       "        vertical-align: top;\n",
       "    }\n",
       "\n",
       "    .dataframe thead th {\n",
       "        text-align: right;\n",
       "    }\n",
       "</style>\n",
       "<table border=\"1\" class=\"dataframe\">\n",
       "  <thead>\n",
       "    <tr style=\"text-align: right;\">\n",
       "      <th></th>\n",
       "      <th>Unnamed: 0</th>\n",
       "      <th>user_id</th>\n",
       "      <th>Gender</th>\n",
       "      <th>State</th>\n",
       "      <th>Age</th>\n",
       "      <th>date_joined</th>\n",
       "      <th>#_of_dependants</th>\n",
       "      <th>marital_status</th>\n",
       "      <th>income</th>\n",
       "      <th>order_id</th>\n",
       "      <th>...</th>\n",
       "      <th>max_order</th>\n",
       "      <th>loyalty_flag</th>\n",
       "      <th>mean_price</th>\n",
       "      <th>spending_flag</th>\n",
       "      <th>median_days</th>\n",
       "      <th>frequency_flag</th>\n",
       "      <th>region</th>\n",
       "      <th>customer_activity</th>\n",
       "      <th>income_level</th>\n",
       "      <th>age_group</th>\n",
       "    </tr>\n",
       "  </thead>\n",
       "  <tbody>\n",
       "    <tr>\n",
       "      <th>0</th>\n",
       "      <td>0</td>\n",
       "      <td>26711</td>\n",
       "      <td>Female</td>\n",
       "      <td>Missouri</td>\n",
       "      <td>48</td>\n",
       "      <td>1/1/2017</td>\n",
       "      <td>3</td>\n",
       "      <td>married</td>\n",
       "      <td>165665</td>\n",
       "      <td>2543867</td>\n",
       "      <td>...</td>\n",
       "      <td>8</td>\n",
       "      <td>New customer</td>\n",
       "      <td>7.988889</td>\n",
       "      <td>Low spender</td>\n",
       "      <td>19.0</td>\n",
       "      <td>Regular customer</td>\n",
       "      <td>Midwest</td>\n",
       "      <td>High-activity customer</td>\n",
       "      <td>High Income</td>\n",
       "      <td>Middle-aged</td>\n",
       "    </tr>\n",
       "    <tr>\n",
       "      <th>1</th>\n",
       "      <td>1</td>\n",
       "      <td>26711</td>\n",
       "      <td>Female</td>\n",
       "      <td>Missouri</td>\n",
       "      <td>48</td>\n",
       "      <td>1/1/2017</td>\n",
       "      <td>3</td>\n",
       "      <td>married</td>\n",
       "      <td>165665</td>\n",
       "      <td>1285508</td>\n",
       "      <td>...</td>\n",
       "      <td>8</td>\n",
       "      <td>New customer</td>\n",
       "      <td>7.988889</td>\n",
       "      <td>Low spender</td>\n",
       "      <td>19.0</td>\n",
       "      <td>Regular customer</td>\n",
       "      <td>Midwest</td>\n",
       "      <td>High-activity customer</td>\n",
       "      <td>High Income</td>\n",
       "      <td>Middle-aged</td>\n",
       "    </tr>\n",
       "    <tr>\n",
       "      <th>2</th>\n",
       "      <td>2</td>\n",
       "      <td>26711</td>\n",
       "      <td>Female</td>\n",
       "      <td>Missouri</td>\n",
       "      <td>48</td>\n",
       "      <td>1/1/2017</td>\n",
       "      <td>3</td>\n",
       "      <td>married</td>\n",
       "      <td>165665</td>\n",
       "      <td>2578584</td>\n",
       "      <td>...</td>\n",
       "      <td>8</td>\n",
       "      <td>New customer</td>\n",
       "      <td>7.988889</td>\n",
       "      <td>Low spender</td>\n",
       "      <td>19.0</td>\n",
       "      <td>Regular customer</td>\n",
       "      <td>Midwest</td>\n",
       "      <td>High-activity customer</td>\n",
       "      <td>High Income</td>\n",
       "      <td>Middle-aged</td>\n",
       "    </tr>\n",
       "    <tr>\n",
       "      <th>3</th>\n",
       "      <td>3</td>\n",
       "      <td>26711</td>\n",
       "      <td>Female</td>\n",
       "      <td>Missouri</td>\n",
       "      <td>48</td>\n",
       "      <td>1/1/2017</td>\n",
       "      <td>3</td>\n",
       "      <td>married</td>\n",
       "      <td>165665</td>\n",
       "      <td>423547</td>\n",
       "      <td>...</td>\n",
       "      <td>8</td>\n",
       "      <td>New customer</td>\n",
       "      <td>7.988889</td>\n",
       "      <td>Low spender</td>\n",
       "      <td>19.0</td>\n",
       "      <td>Regular customer</td>\n",
       "      <td>Midwest</td>\n",
       "      <td>High-activity customer</td>\n",
       "      <td>High Income</td>\n",
       "      <td>Middle-aged</td>\n",
       "    </tr>\n",
       "    <tr>\n",
       "      <th>4</th>\n",
       "      <td>4</td>\n",
       "      <td>26711</td>\n",
       "      <td>Female</td>\n",
       "      <td>Missouri</td>\n",
       "      <td>48</td>\n",
       "      <td>1/1/2017</td>\n",
       "      <td>3</td>\n",
       "      <td>married</td>\n",
       "      <td>165665</td>\n",
       "      <td>2524893</td>\n",
       "      <td>...</td>\n",
       "      <td>8</td>\n",
       "      <td>New customer</td>\n",
       "      <td>7.988889</td>\n",
       "      <td>Low spender</td>\n",
       "      <td>19.0</td>\n",
       "      <td>Regular customer</td>\n",
       "      <td>Midwest</td>\n",
       "      <td>High-activity customer</td>\n",
       "      <td>High Income</td>\n",
       "      <td>Middle-aged</td>\n",
       "    </tr>\n",
       "  </tbody>\n",
       "</table>\n",
       "<p>5 rows × 35 columns</p>\n",
       "</div>"
      ],
      "text/plain": [
       "   Unnamed: 0  user_id  Gender     State  Age date_joined  #_of_dependants  \\\n",
       "0           0    26711  Female  Missouri   48    1/1/2017                3   \n",
       "1           1    26711  Female  Missouri   48    1/1/2017                3   \n",
       "2           2    26711  Female  Missouri   48    1/1/2017                3   \n",
       "3           3    26711  Female  Missouri   48    1/1/2017                3   \n",
       "4           4    26711  Female  Missouri   48    1/1/2017                3   \n",
       "\n",
       "  marital_status  income  order_id  ...  max_order  loyalty_flag  mean_price  \\\n",
       "0        married  165665   2543867  ...          8  New customer    7.988889   \n",
       "1        married  165665   1285508  ...          8  New customer    7.988889   \n",
       "2        married  165665   2578584  ...          8  New customer    7.988889   \n",
       "3        married  165665    423547  ...          8  New customer    7.988889   \n",
       "4        married  165665   2524893  ...          8  New customer    7.988889   \n",
       "\n",
       "   spending_flag  median_days    frequency_flag   region  \\\n",
       "0    Low spender         19.0  Regular customer  Midwest   \n",
       "1    Low spender         19.0  Regular customer  Midwest   \n",
       "2    Low spender         19.0  Regular customer  Midwest   \n",
       "3    Low spender         19.0  Regular customer  Midwest   \n",
       "4    Low spender         19.0  Regular customer  Midwest   \n",
       "\n",
       "        customer_activity  income_level    age_group  \n",
       "0  High-activity customer   High Income  Middle-aged  \n",
       "1  High-activity customer   High Income  Middle-aged  \n",
       "2  High-activity customer   High Income  Middle-aged  \n",
       "3  High-activity customer   High Income  Middle-aged  \n",
       "4  High-activity customer   High Income  Middle-aged  \n",
       "\n",
       "[5 rows x 35 columns]"
      ]
     },
     "execution_count": 4,
     "metadata": {},
     "output_type": "execute_result"
    }
   ],
   "source": [
    "# Checking the dimensions of merged_4_9.\n",
    "merged_4_9.head()"
   ]
  },
  {
   "cell_type": "code",
   "execution_count": 5,
   "id": "4c7d0321",
   "metadata": {},
   "outputs": [
    {
     "data": {
      "text/html": [
       "<div>\n",
       "<style scoped>\n",
       "    .dataframe tbody tr th:only-of-type {\n",
       "        vertical-align: middle;\n",
       "    }\n",
       "\n",
       "    .dataframe tbody tr th {\n",
       "        vertical-align: top;\n",
       "    }\n",
       "\n",
       "    .dataframe thead th {\n",
       "        text-align: right;\n",
       "    }\n",
       "</style>\n",
       "<table border=\"1\" class=\"dataframe\">\n",
       "  <thead>\n",
       "    <tr style=\"text-align: right;\">\n",
       "      <th></th>\n",
       "      <th>user_id</th>\n",
       "      <th>Gender</th>\n",
       "      <th>State</th>\n",
       "      <th>Age</th>\n",
       "      <th>date_joined</th>\n",
       "      <th>#_of_dependants</th>\n",
       "      <th>marital_status</th>\n",
       "      <th>income</th>\n",
       "      <th>order_id</th>\n",
       "      <th>order_number</th>\n",
       "      <th>...</th>\n",
       "      <th>max_order</th>\n",
       "      <th>loyalty_flag</th>\n",
       "      <th>mean_price</th>\n",
       "      <th>spending_flag</th>\n",
       "      <th>median_days</th>\n",
       "      <th>frequency_flag</th>\n",
       "      <th>region</th>\n",
       "      <th>customer_activity</th>\n",
       "      <th>income_level</th>\n",
       "      <th>age_group</th>\n",
       "    </tr>\n",
       "  </thead>\n",
       "  <tbody>\n",
       "    <tr>\n",
       "      <th>0</th>\n",
       "      <td>26711</td>\n",
       "      <td>Female</td>\n",
       "      <td>Missouri</td>\n",
       "      <td>48</td>\n",
       "      <td>1/1/2017</td>\n",
       "      <td>3</td>\n",
       "      <td>married</td>\n",
       "      <td>165665</td>\n",
       "      <td>2543867</td>\n",
       "      <td>5</td>\n",
       "      <td>...</td>\n",
       "      <td>8</td>\n",
       "      <td>New customer</td>\n",
       "      <td>7.988889</td>\n",
       "      <td>Low spender</td>\n",
       "      <td>19.0</td>\n",
       "      <td>Regular customer</td>\n",
       "      <td>Midwest</td>\n",
       "      <td>High-activity customer</td>\n",
       "      <td>High Income</td>\n",
       "      <td>Middle-aged</td>\n",
       "    </tr>\n",
       "    <tr>\n",
       "      <th>1</th>\n",
       "      <td>26711</td>\n",
       "      <td>Female</td>\n",
       "      <td>Missouri</td>\n",
       "      <td>48</td>\n",
       "      <td>1/1/2017</td>\n",
       "      <td>3</td>\n",
       "      <td>married</td>\n",
       "      <td>165665</td>\n",
       "      <td>1285508</td>\n",
       "      <td>7</td>\n",
       "      <td>...</td>\n",
       "      <td>8</td>\n",
       "      <td>New customer</td>\n",
       "      <td>7.988889</td>\n",
       "      <td>Low spender</td>\n",
       "      <td>19.0</td>\n",
       "      <td>Regular customer</td>\n",
       "      <td>Midwest</td>\n",
       "      <td>High-activity customer</td>\n",
       "      <td>High Income</td>\n",
       "      <td>Middle-aged</td>\n",
       "    </tr>\n",
       "    <tr>\n",
       "      <th>2</th>\n",
       "      <td>26711</td>\n",
       "      <td>Female</td>\n",
       "      <td>Missouri</td>\n",
       "      <td>48</td>\n",
       "      <td>1/1/2017</td>\n",
       "      <td>3</td>\n",
       "      <td>married</td>\n",
       "      <td>165665</td>\n",
       "      <td>2578584</td>\n",
       "      <td>8</td>\n",
       "      <td>...</td>\n",
       "      <td>8</td>\n",
       "      <td>New customer</td>\n",
       "      <td>7.988889</td>\n",
       "      <td>Low spender</td>\n",
       "      <td>19.0</td>\n",
       "      <td>Regular customer</td>\n",
       "      <td>Midwest</td>\n",
       "      <td>High-activity customer</td>\n",
       "      <td>High Income</td>\n",
       "      <td>Middle-aged</td>\n",
       "    </tr>\n",
       "    <tr>\n",
       "      <th>3</th>\n",
       "      <td>26711</td>\n",
       "      <td>Female</td>\n",
       "      <td>Missouri</td>\n",
       "      <td>48</td>\n",
       "      <td>1/1/2017</td>\n",
       "      <td>3</td>\n",
       "      <td>married</td>\n",
       "      <td>165665</td>\n",
       "      <td>423547</td>\n",
       "      <td>2</td>\n",
       "      <td>...</td>\n",
       "      <td>8</td>\n",
       "      <td>New customer</td>\n",
       "      <td>7.988889</td>\n",
       "      <td>Low spender</td>\n",
       "      <td>19.0</td>\n",
       "      <td>Regular customer</td>\n",
       "      <td>Midwest</td>\n",
       "      <td>High-activity customer</td>\n",
       "      <td>High Income</td>\n",
       "      <td>Middle-aged</td>\n",
       "    </tr>\n",
       "    <tr>\n",
       "      <th>4</th>\n",
       "      <td>26711</td>\n",
       "      <td>Female</td>\n",
       "      <td>Missouri</td>\n",
       "      <td>48</td>\n",
       "      <td>1/1/2017</td>\n",
       "      <td>3</td>\n",
       "      <td>married</td>\n",
       "      <td>165665</td>\n",
       "      <td>2524893</td>\n",
       "      <td>3</td>\n",
       "      <td>...</td>\n",
       "      <td>8</td>\n",
       "      <td>New customer</td>\n",
       "      <td>7.988889</td>\n",
       "      <td>Low spender</td>\n",
       "      <td>19.0</td>\n",
       "      <td>Regular customer</td>\n",
       "      <td>Midwest</td>\n",
       "      <td>High-activity customer</td>\n",
       "      <td>High Income</td>\n",
       "      <td>Middle-aged</td>\n",
       "    </tr>\n",
       "    <tr>\n",
       "      <th>...</th>\n",
       "      <td>...</td>\n",
       "      <td>...</td>\n",
       "      <td>...</td>\n",
       "      <td>...</td>\n",
       "      <td>...</td>\n",
       "      <td>...</td>\n",
       "      <td>...</td>\n",
       "      <td>...</td>\n",
       "      <td>...</td>\n",
       "      <td>...</td>\n",
       "      <td>...</td>\n",
       "      <td>...</td>\n",
       "      <td>...</td>\n",
       "      <td>...</td>\n",
       "      <td>...</td>\n",
       "      <td>...</td>\n",
       "      <td>...</td>\n",
       "      <td>...</td>\n",
       "      <td>...</td>\n",
       "      <td>...</td>\n",
       "      <td>...</td>\n",
       "    </tr>\n",
       "    <tr>\n",
       "      <th>30328758</th>\n",
       "      <td>80148</td>\n",
       "      <td>Female</td>\n",
       "      <td>New York</td>\n",
       "      <td>55</td>\n",
       "      <td>4/1/2020</td>\n",
       "      <td>1</td>\n",
       "      <td>married</td>\n",
       "      <td>57095</td>\n",
       "      <td>2859858</td>\n",
       "      <td>3</td>\n",
       "      <td>...</td>\n",
       "      <td>4</td>\n",
       "      <td>New customer</td>\n",
       "      <td>3.886667</td>\n",
       "      <td>Low spender</td>\n",
       "      <td>12.0</td>\n",
       "      <td>Regular customer</td>\n",
       "      <td>Northeast</td>\n",
       "      <td>Low-activity customer</td>\n",
       "      <td>Moderate Income</td>\n",
       "      <td>Middle-aged</td>\n",
       "    </tr>\n",
       "    <tr>\n",
       "      <th>30328759</th>\n",
       "      <td>80148</td>\n",
       "      <td>Female</td>\n",
       "      <td>New York</td>\n",
       "      <td>55</td>\n",
       "      <td>4/1/2020</td>\n",
       "      <td>1</td>\n",
       "      <td>married</td>\n",
       "      <td>57095</td>\n",
       "      <td>2859858</td>\n",
       "      <td>3</td>\n",
       "      <td>...</td>\n",
       "      <td>4</td>\n",
       "      <td>New customer</td>\n",
       "      <td>3.886667</td>\n",
       "      <td>Low spender</td>\n",
       "      <td>12.0</td>\n",
       "      <td>Regular customer</td>\n",
       "      <td>Northeast</td>\n",
       "      <td>Low-activity customer</td>\n",
       "      <td>Moderate Income</td>\n",
       "      <td>Middle-aged</td>\n",
       "    </tr>\n",
       "    <tr>\n",
       "      <th>30328760</th>\n",
       "      <td>80148</td>\n",
       "      <td>Female</td>\n",
       "      <td>New York</td>\n",
       "      <td>55</td>\n",
       "      <td>4/1/2020</td>\n",
       "      <td>1</td>\n",
       "      <td>married</td>\n",
       "      <td>57095</td>\n",
       "      <td>3209855</td>\n",
       "      <td>4</td>\n",
       "      <td>...</td>\n",
       "      <td>4</td>\n",
       "      <td>New customer</td>\n",
       "      <td>3.886667</td>\n",
       "      <td>Low spender</td>\n",
       "      <td>12.0</td>\n",
       "      <td>Regular customer</td>\n",
       "      <td>Northeast</td>\n",
       "      <td>Low-activity customer</td>\n",
       "      <td>Moderate Income</td>\n",
       "      <td>Middle-aged</td>\n",
       "    </tr>\n",
       "    <tr>\n",
       "      <th>30328761</th>\n",
       "      <td>80148</td>\n",
       "      <td>Female</td>\n",
       "      <td>New York</td>\n",
       "      <td>55</td>\n",
       "      <td>4/1/2020</td>\n",
       "      <td>1</td>\n",
       "      <td>married</td>\n",
       "      <td>57095</td>\n",
       "      <td>2859858</td>\n",
       "      <td>3</td>\n",
       "      <td>...</td>\n",
       "      <td>4</td>\n",
       "      <td>New customer</td>\n",
       "      <td>3.886667</td>\n",
       "      <td>Low spender</td>\n",
       "      <td>12.0</td>\n",
       "      <td>Regular customer</td>\n",
       "      <td>Northeast</td>\n",
       "      <td>Low-activity customer</td>\n",
       "      <td>Moderate Income</td>\n",
       "      <td>Middle-aged</td>\n",
       "    </tr>\n",
       "    <tr>\n",
       "      <th>30328762</th>\n",
       "      <td>80148</td>\n",
       "      <td>Female</td>\n",
       "      <td>New York</td>\n",
       "      <td>55</td>\n",
       "      <td>4/1/2020</td>\n",
       "      <td>1</td>\n",
       "      <td>married</td>\n",
       "      <td>57095</td>\n",
       "      <td>2859858</td>\n",
       "      <td>3</td>\n",
       "      <td>...</td>\n",
       "      <td>4</td>\n",
       "      <td>New customer</td>\n",
       "      <td>3.886667</td>\n",
       "      <td>Low spender</td>\n",
       "      <td>12.0</td>\n",
       "      <td>Regular customer</td>\n",
       "      <td>Northeast</td>\n",
       "      <td>Low-activity customer</td>\n",
       "      <td>Moderate Income</td>\n",
       "      <td>Middle-aged</td>\n",
       "    </tr>\n",
       "  </tbody>\n",
       "</table>\n",
       "<p>30328763 rows × 34 columns</p>\n",
       "</div>"
      ],
      "text/plain": [
       "          user_id  Gender     State  Age date_joined  #_of_dependants  \\\n",
       "0           26711  Female  Missouri   48    1/1/2017                3   \n",
       "1           26711  Female  Missouri   48    1/1/2017                3   \n",
       "2           26711  Female  Missouri   48    1/1/2017                3   \n",
       "3           26711  Female  Missouri   48    1/1/2017                3   \n",
       "4           26711  Female  Missouri   48    1/1/2017                3   \n",
       "...           ...     ...       ...  ...         ...              ...   \n",
       "30328758    80148  Female  New York   55    4/1/2020                1   \n",
       "30328759    80148  Female  New York   55    4/1/2020                1   \n",
       "30328760    80148  Female  New York   55    4/1/2020                1   \n",
       "30328761    80148  Female  New York   55    4/1/2020                1   \n",
       "30328762    80148  Female  New York   55    4/1/2020                1   \n",
       "\n",
       "         marital_status  income  order_id  order_number  ...  max_order  \\\n",
       "0               married  165665   2543867             5  ...          8   \n",
       "1               married  165665   1285508             7  ...          8   \n",
       "2               married  165665   2578584             8  ...          8   \n",
       "3               married  165665    423547             2  ...          8   \n",
       "4               married  165665   2524893             3  ...          8   \n",
       "...                 ...     ...       ...           ...  ...        ...   \n",
       "30328758        married   57095   2859858             3  ...          4   \n",
       "30328759        married   57095   2859858             3  ...          4   \n",
       "30328760        married   57095   3209855             4  ...          4   \n",
       "30328761        married   57095   2859858             3  ...          4   \n",
       "30328762        married   57095   2859858             3  ...          4   \n",
       "\n",
       "          loyalty_flag  mean_price  spending_flag  median_days  \\\n",
       "0         New customer    7.988889    Low spender         19.0   \n",
       "1         New customer    7.988889    Low spender         19.0   \n",
       "2         New customer    7.988889    Low spender         19.0   \n",
       "3         New customer    7.988889    Low spender         19.0   \n",
       "4         New customer    7.988889    Low spender         19.0   \n",
       "...                ...         ...            ...          ...   \n",
       "30328758  New customer    3.886667    Low spender         12.0   \n",
       "30328759  New customer    3.886667    Low spender         12.0   \n",
       "30328760  New customer    3.886667    Low spender         12.0   \n",
       "30328761  New customer    3.886667    Low spender         12.0   \n",
       "30328762  New customer    3.886667    Low spender         12.0   \n",
       "\n",
       "            frequency_flag     region       customer_activity  \\\n",
       "0         Regular customer    Midwest  High-activity customer   \n",
       "1         Regular customer    Midwest  High-activity customer   \n",
       "2         Regular customer    Midwest  High-activity customer   \n",
       "3         Regular customer    Midwest  High-activity customer   \n",
       "4         Regular customer    Midwest  High-activity customer   \n",
       "...                    ...        ...                     ...   \n",
       "30328758  Regular customer  Northeast   Low-activity customer   \n",
       "30328759  Regular customer  Northeast   Low-activity customer   \n",
       "30328760  Regular customer  Northeast   Low-activity customer   \n",
       "30328761  Regular customer  Northeast   Low-activity customer   \n",
       "30328762  Regular customer  Northeast   Low-activity customer   \n",
       "\n",
       "             income_level    age_group  \n",
       "0             High Income  Middle-aged  \n",
       "1             High Income  Middle-aged  \n",
       "2             High Income  Middle-aged  \n",
       "3             High Income  Middle-aged  \n",
       "4             High Income  Middle-aged  \n",
       "...                   ...          ...  \n",
       "30328758  Moderate Income  Middle-aged  \n",
       "30328759  Moderate Income  Middle-aged  \n",
       "30328760  Moderate Income  Middle-aged  \n",
       "30328761  Moderate Income  Middle-aged  \n",
       "30328762  Moderate Income  Middle-aged  \n",
       "\n",
       "[30328763 rows x 34 columns]"
      ]
     },
     "execution_count": 5,
     "metadata": {},
     "output_type": "execute_result"
    }
   ],
   "source": [
    "# Dropping unnecesary unnamed column.\n",
    "merged_4_9.drop(columns = ['Unnamed: 0'])"
   ]
  },
  {
   "cell_type": "markdown",
   "id": "6db2f4db",
   "metadata": {},
   "source": [
    "### 5. (Continuation)"
   ]
  },
  {
   "cell_type": "code",
   "execution_count": 6,
   "id": "2640b60b",
   "metadata": {},
   "outputs": [],
   "source": [
    "# Creating a profiling variable for income.\n",
    "merged_4_9.loc[merged_4_9['income']>= 40000 & (merged_4_9['income']< 80000), 'income_level']= 'Moderate Income'\n",
    "merged_4_9.loc[merged_4_9['income']< 40000, 'income_level']='Low Income'\n",
    "merged_4_9.loc[merged_4_9['income']>= 80000, 'income_level']='High Income'"
   ]
  },
  {
   "cell_type": "code",
   "execution_count": 7,
   "id": "151d064a",
   "metadata": {},
   "outputs": [
    {
     "data": {
      "text/plain": [
       "High Income        19522570\n",
       "Moderate Income     9206617\n",
       "Low Income          1599576\n",
       "Name: income_level, dtype: int64"
      ]
     },
     "execution_count": 7,
     "metadata": {},
     "output_type": "execute_result"
    }
   ],
   "source": [
    "# Checking the value count for income level.\n",
    "merged_4_9['income_level'].value_counts()"
   ]
  },
  {
   "cell_type": "code",
   "execution_count": 8,
   "id": "f25e3861",
   "metadata": {},
   "outputs": [],
   "source": [
    "# Creating a profiling variable for Age.\n",
    "merged_4_9.loc[merged_4_9['Age'] >= 35 & (merged_4_9['Age'] < 60), 'age_group'] ='Middle-aged'\n",
    "merged_4_9.loc[merged_4_9['Age']<35,'age_group']='Young adult'\n",
    "merged_4_9.loc[merged_4_9['Age']>= 60,'age_group']='Elderly'"
   ]
  },
  {
   "cell_type": "code",
   "execution_count": 9,
   "id": "82637a4e",
   "metadata": {},
   "outputs": [
    {
     "data": {
      "text/plain": [
       "Middle-aged    11898874\n",
       "Elderly        10356106\n",
       "Young adult     8073783\n",
       "Name: age_group, dtype: int64"
      ]
     },
     "execution_count": 9,
     "metadata": {},
     "output_type": "execute_result"
    }
   ],
   "source": [
    "# Checking the value count for age group.\n",
    "merged_4_9['age_group'].value_counts()"
   ]
  },
  {
   "cell_type": "code",
   "execution_count": 10,
   "id": "f1caba36",
   "metadata": {},
   "outputs": [],
   "source": [
    "# Importing departments file.\n",
    "departments = pd.read_csv(os.path.join(path, '02 Data', 'Prepared Data', 'departments_wrangled.csv'))"
   ]
  },
  {
   "cell_type": "code",
   "execution_count": 11,
   "id": "3ed20ff3",
   "metadata": {},
   "outputs": [
    {
     "data": {
      "text/html": [
       "<div>\n",
       "<style scoped>\n",
       "    .dataframe tbody tr th:only-of-type {\n",
       "        vertical-align: middle;\n",
       "    }\n",
       "\n",
       "    .dataframe tbody tr th {\n",
       "        vertical-align: top;\n",
       "    }\n",
       "\n",
       "    .dataframe thead th {\n",
       "        text-align: right;\n",
       "    }\n",
       "</style>\n",
       "<table border=\"1\" class=\"dataframe\">\n",
       "  <thead>\n",
       "    <tr style=\"text-align: right;\">\n",
       "      <th></th>\n",
       "      <th>Unnamed: 0</th>\n",
       "      <th>department</th>\n",
       "    </tr>\n",
       "  </thead>\n",
       "  <tbody>\n",
       "    <tr>\n",
       "      <th>0</th>\n",
       "      <td>1</td>\n",
       "      <td>frozen</td>\n",
       "    </tr>\n",
       "    <tr>\n",
       "      <th>1</th>\n",
       "      <td>2</td>\n",
       "      <td>other</td>\n",
       "    </tr>\n",
       "    <tr>\n",
       "      <th>2</th>\n",
       "      <td>3</td>\n",
       "      <td>bakery</td>\n",
       "    </tr>\n",
       "    <tr>\n",
       "      <th>3</th>\n",
       "      <td>4</td>\n",
       "      <td>produce</td>\n",
       "    </tr>\n",
       "    <tr>\n",
       "      <th>4</th>\n",
       "      <td>5</td>\n",
       "      <td>alcohol</td>\n",
       "    </tr>\n",
       "    <tr>\n",
       "      <th>5</th>\n",
       "      <td>6</td>\n",
       "      <td>international</td>\n",
       "    </tr>\n",
       "    <tr>\n",
       "      <th>6</th>\n",
       "      <td>7</td>\n",
       "      <td>beverages</td>\n",
       "    </tr>\n",
       "    <tr>\n",
       "      <th>7</th>\n",
       "      <td>8</td>\n",
       "      <td>pets</td>\n",
       "    </tr>\n",
       "    <tr>\n",
       "      <th>8</th>\n",
       "      <td>9</td>\n",
       "      <td>dry goods pasta</td>\n",
       "    </tr>\n",
       "    <tr>\n",
       "      <th>9</th>\n",
       "      <td>10</td>\n",
       "      <td>bulk</td>\n",
       "    </tr>\n",
       "    <tr>\n",
       "      <th>10</th>\n",
       "      <td>11</td>\n",
       "      <td>personal care</td>\n",
       "    </tr>\n",
       "    <tr>\n",
       "      <th>11</th>\n",
       "      <td>12</td>\n",
       "      <td>meat seafood</td>\n",
       "    </tr>\n",
       "    <tr>\n",
       "      <th>12</th>\n",
       "      <td>13</td>\n",
       "      <td>pantry</td>\n",
       "    </tr>\n",
       "    <tr>\n",
       "      <th>13</th>\n",
       "      <td>14</td>\n",
       "      <td>breakfast</td>\n",
       "    </tr>\n",
       "    <tr>\n",
       "      <th>14</th>\n",
       "      <td>15</td>\n",
       "      <td>canned goods</td>\n",
       "    </tr>\n",
       "    <tr>\n",
       "      <th>15</th>\n",
       "      <td>16</td>\n",
       "      <td>dairy eggs</td>\n",
       "    </tr>\n",
       "    <tr>\n",
       "      <th>16</th>\n",
       "      <td>17</td>\n",
       "      <td>household</td>\n",
       "    </tr>\n",
       "    <tr>\n",
       "      <th>17</th>\n",
       "      <td>18</td>\n",
       "      <td>babies</td>\n",
       "    </tr>\n",
       "    <tr>\n",
       "      <th>18</th>\n",
       "      <td>19</td>\n",
       "      <td>snacks</td>\n",
       "    </tr>\n",
       "    <tr>\n",
       "      <th>19</th>\n",
       "      <td>20</td>\n",
       "      <td>deli</td>\n",
       "    </tr>\n",
       "    <tr>\n",
       "      <th>20</th>\n",
       "      <td>21</td>\n",
       "      <td>missing</td>\n",
       "    </tr>\n",
       "  </tbody>\n",
       "</table>\n",
       "</div>"
      ],
      "text/plain": [
       "    Unnamed: 0       department\n",
       "0            1           frozen\n",
       "1            2            other\n",
       "2            3           bakery\n",
       "3            4          produce\n",
       "4            5          alcohol\n",
       "5            6    international\n",
       "6            7        beverages\n",
       "7            8             pets\n",
       "8            9  dry goods pasta\n",
       "9           10             bulk\n",
       "10          11    personal care\n",
       "11          12     meat seafood\n",
       "12          13           pantry\n",
       "13          14        breakfast\n",
       "14          15     canned goods\n",
       "15          16       dairy eggs\n",
       "16          17        household\n",
       "17          18           babies\n",
       "18          19           snacks\n",
       "19          20             deli\n",
       "20          21          missing"
      ]
     },
     "execution_count": 11,
     "metadata": {},
     "output_type": "execute_result"
    }
   ],
   "source": [
    "departments"
   ]
  },
  {
   "cell_type": "code",
   "execution_count": 12,
   "id": "1c0f73c6",
   "metadata": {},
   "outputs": [],
   "source": [
    "# Renaming unnamed: 0 to department_id.\n",
    "departments.rename(columns={'Unnamed: 0':'department_id'},inplace=True)"
   ]
  },
  {
   "cell_type": "code",
   "execution_count": 13,
   "id": "378d5b01",
   "metadata": {},
   "outputs": [
    {
     "data": {
      "text/html": [
       "<div>\n",
       "<style scoped>\n",
       "    .dataframe tbody tr th:only-of-type {\n",
       "        vertical-align: middle;\n",
       "    }\n",
       "\n",
       "    .dataframe tbody tr th {\n",
       "        vertical-align: top;\n",
       "    }\n",
       "\n",
       "    .dataframe thead th {\n",
       "        text-align: right;\n",
       "    }\n",
       "</style>\n",
       "<table border=\"1\" class=\"dataframe\">\n",
       "  <thead>\n",
       "    <tr style=\"text-align: right;\">\n",
       "      <th></th>\n",
       "      <th>department_id</th>\n",
       "      <th>department</th>\n",
       "    </tr>\n",
       "  </thead>\n",
       "  <tbody>\n",
       "    <tr>\n",
       "      <th>0</th>\n",
       "      <td>1</td>\n",
       "      <td>frozen</td>\n",
       "    </tr>\n",
       "    <tr>\n",
       "      <th>1</th>\n",
       "      <td>2</td>\n",
       "      <td>other</td>\n",
       "    </tr>\n",
       "    <tr>\n",
       "      <th>2</th>\n",
       "      <td>3</td>\n",
       "      <td>bakery</td>\n",
       "    </tr>\n",
       "    <tr>\n",
       "      <th>3</th>\n",
       "      <td>4</td>\n",
       "      <td>produce</td>\n",
       "    </tr>\n",
       "    <tr>\n",
       "      <th>4</th>\n",
       "      <td>5</td>\n",
       "      <td>alcohol</td>\n",
       "    </tr>\n",
       "    <tr>\n",
       "      <th>5</th>\n",
       "      <td>6</td>\n",
       "      <td>international</td>\n",
       "    </tr>\n",
       "    <tr>\n",
       "      <th>6</th>\n",
       "      <td>7</td>\n",
       "      <td>beverages</td>\n",
       "    </tr>\n",
       "    <tr>\n",
       "      <th>7</th>\n",
       "      <td>8</td>\n",
       "      <td>pets</td>\n",
       "    </tr>\n",
       "    <tr>\n",
       "      <th>8</th>\n",
       "      <td>9</td>\n",
       "      <td>dry goods pasta</td>\n",
       "    </tr>\n",
       "    <tr>\n",
       "      <th>9</th>\n",
       "      <td>10</td>\n",
       "      <td>bulk</td>\n",
       "    </tr>\n",
       "    <tr>\n",
       "      <th>10</th>\n",
       "      <td>11</td>\n",
       "      <td>personal care</td>\n",
       "    </tr>\n",
       "    <tr>\n",
       "      <th>11</th>\n",
       "      <td>12</td>\n",
       "      <td>meat seafood</td>\n",
       "    </tr>\n",
       "    <tr>\n",
       "      <th>12</th>\n",
       "      <td>13</td>\n",
       "      <td>pantry</td>\n",
       "    </tr>\n",
       "    <tr>\n",
       "      <th>13</th>\n",
       "      <td>14</td>\n",
       "      <td>breakfast</td>\n",
       "    </tr>\n",
       "    <tr>\n",
       "      <th>14</th>\n",
       "      <td>15</td>\n",
       "      <td>canned goods</td>\n",
       "    </tr>\n",
       "    <tr>\n",
       "      <th>15</th>\n",
       "      <td>16</td>\n",
       "      <td>dairy eggs</td>\n",
       "    </tr>\n",
       "    <tr>\n",
       "      <th>16</th>\n",
       "      <td>17</td>\n",
       "      <td>household</td>\n",
       "    </tr>\n",
       "    <tr>\n",
       "      <th>17</th>\n",
       "      <td>18</td>\n",
       "      <td>babies</td>\n",
       "    </tr>\n",
       "    <tr>\n",
       "      <th>18</th>\n",
       "      <td>19</td>\n",
       "      <td>snacks</td>\n",
       "    </tr>\n",
       "    <tr>\n",
       "      <th>19</th>\n",
       "      <td>20</td>\n",
       "      <td>deli</td>\n",
       "    </tr>\n",
       "    <tr>\n",
       "      <th>20</th>\n",
       "      <td>21</td>\n",
       "      <td>missing</td>\n",
       "    </tr>\n",
       "  </tbody>\n",
       "</table>\n",
       "</div>"
      ],
      "text/plain": [
       "    department_id       department\n",
       "0               1           frozen\n",
       "1               2            other\n",
       "2               3           bakery\n",
       "3               4          produce\n",
       "4               5          alcohol\n",
       "5               6    international\n",
       "6               7        beverages\n",
       "7               8             pets\n",
       "8               9  dry goods pasta\n",
       "9              10             bulk\n",
       "10             11    personal care\n",
       "11             12     meat seafood\n",
       "12             13           pantry\n",
       "13             14        breakfast\n",
       "14             15     canned goods\n",
       "15             16       dairy eggs\n",
       "16             17        household\n",
       "17             18           babies\n",
       "18             19           snacks\n",
       "19             20             deli\n",
       "20             21          missing"
      ]
     },
     "execution_count": 13,
     "metadata": {},
     "output_type": "execute_result"
    }
   ],
   "source": [
    "departments"
   ]
  },
  {
   "cell_type": "code",
   "execution_count": 14,
   "id": "3219367c",
   "metadata": {},
   "outputs": [],
   "source": [
    "# Combining merged_4_9 with departments file.\n",
    "master_merge = merged_4_9.merge(departments,on='department_id')"
   ]
  },
  {
   "cell_type": "code",
   "execution_count": 15,
   "id": "fc40f12e",
   "metadata": {},
   "outputs": [],
   "source": [
    "# Creating a profiling variable for a department.\n",
    "master_merge.loc[master_merge['department_id'] == 8, 'pet_owner'] = 'pet_owner'\n",
    "master_merge.loc[master_merge['department_id'] != 8, 'pet_owner'] = 'non-pet_owner'"
   ]
  },
  {
   "cell_type": "code",
   "execution_count": 16,
   "id": "b8cea5eb",
   "metadata": {},
   "outputs": [
    {
     "data": {
      "text/plain": [
       "non-pet_owner    30237670\n",
       "pet_owner           91093\n",
       "Name: pet_owner, dtype: int64"
      ]
     },
     "execution_count": 16,
     "metadata": {},
     "output_type": "execute_result"
    }
   ],
   "source": [
    "# Checking value count for pet_owner.\n",
    "master_merge['pet_owner'].value_counts()"
   ]
  },
  {
   "cell_type": "code",
   "execution_count": 17,
   "id": "7ebeb7b4",
   "metadata": {},
   "outputs": [
    {
     "data": {
      "text/plain": [
       "3    7615541\n",
       "0    7579348\n",
       "2    7572080\n",
       "1    7561794\n",
       "Name: #_of_dependants, dtype: int64"
      ]
     },
     "execution_count": 17,
     "metadata": {},
     "output_type": "execute_result"
    }
   ],
   "source": [
    "# Checking the value count of dependants there are.\n",
    "merged_4_9['#_of_dependants'].value_counts()"
   ]
  },
  {
   "cell_type": "code",
   "execution_count": 18,
   "id": "52dc1d15",
   "metadata": {},
   "outputs": [],
   "source": [
    "# Creating a profiling variable for number of dependants.\n",
    "master_merge.loc[master_merge['#_of_dependants'] == 0, 'dependants'] = 'No Dependants'\n",
    "master_merge.loc[master_merge['#_of_dependants'] > 0, 'dependants'] = 'Has Dependants'"
   ]
  },
  {
   "cell_type": "code",
   "execution_count": 19,
   "id": "7868961c",
   "metadata": {},
   "outputs": [
    {
     "data": {
      "text/plain": [
       "Has Dependants    22749415\n",
       "No Dependants      7579348\n",
       "Name: dependants, dtype: int64"
      ]
     },
     "execution_count": 19,
     "metadata": {},
     "output_type": "execute_result"
    }
   ],
   "source": [
    "# Checking the value counts of dependants.\n",
    "master_merge['dependants'].value_counts()"
   ]
  },
  {
   "cell_type": "code",
   "execution_count": 20,
   "id": "7c31e6d8",
   "metadata": {},
   "outputs": [],
   "source": [
    "# Creating a customer profile for Young parent.\n",
    "# Creating a customer profile for Middle-aged parent.\n",
    "# Creating a customer profile for Elderly parent.\n",
    "master_merge.loc[(master_merge['dependants'] == 'Has Dependants') & (master_merge['age_group'] == 'Young adult'), 'customer_profile'] = 'Young parent'\n",
    "master_merge.loc[(master_merge['dependants'] == 'Has Dependants') & (master_merge['age_group'] == 'Middle-aged'), 'customer_profile'] = 'Middled-aged parent'\n",
    "master_merge.loc[(master_merge['dependants'] == 'Has Dependants') & (master_merge['age_group'] == 'Elderly'), 'customer_profile'] = 'Elderly parent'"
   ]
  },
  {
   "cell_type": "code",
   "execution_count": 21,
   "id": "24c2bc9a",
   "metadata": {},
   "outputs": [],
   "source": [
    "# Creating a customer profile for Young adult w/ no children.\n",
    "# Creating a customer profile for Middle-aged adult w/ no children.\n",
    "# Creating a customer profile for Elderly adult w/ no children.\n",
    "master_merge.loc[(master_merge['dependants'] == 'No Dependants') & (master_merge['age_group'] == 'Young adult'), 'customer_profile'] = 'Young adult w/ no children'\n",
    "master_merge.loc[(master_merge['dependants'] == 'No Dependants') & (master_merge['age_group'] == 'Middle-aged'), 'customer_profile'] = 'Middle-aged w/ no children'\n",
    "master_merge.loc[(master_merge['dependants'] == 'No Dependants') & (master_merge['age_group'] == 'Elderly'), 'customer_profile'] = 'Elderly w/ no children'"
   ]
  },
  {
   "cell_type": "code",
   "execution_count": 22,
   "id": "0c0935a6",
   "metadata": {},
   "outputs": [
    {
     "data": {
      "text/plain": [
       "Middled-aged parent           8931871\n",
       "Elderly parent                7761780\n",
       "Young parent                  6055764\n",
       "Middle-aged w/ no children    2967003\n",
       "Elderly w/ no children        2594326\n",
       "Young adult w/ no children    2018019\n",
       "Name: customer_profile, dtype: int64"
      ]
     },
     "execution_count": 22,
     "metadata": {},
     "output_type": "execute_result"
    }
   ],
   "source": [
    "# Checking the value counts for customer profile.\n",
    "master_merge['customer_profile'].value_counts()"
   ]
  },
  {
   "cell_type": "markdown",
   "id": "7e358024",
   "metadata": {},
   "source": [
    "## 6. Visualizations"
   ]
  },
  {
   "cell_type": "code",
   "execution_count": 23,
   "id": "b752ba0f",
   "metadata": {},
   "outputs": [
    {
     "data": {
      "image/png": "[encoded data removed]",
      "text/plain": [
       "<Figure size 640x480 with 1 Axes>"
      ]
     },
     "metadata": {},
     "output_type": "display_data"
    }
   ],
   "source": [
    "# Visualization for income level.\n",
    "bar_inc_lev = master_merge['income_level'].value_counts().plot.bar()"
   ]
  },
  {
   "cell_type": "markdown",
   "id": "5edd2ade",
   "metadata": {},
   "source": [
    "Above are income levels by the millions."
   ]
  },
  {
   "cell_type": "code",
   "execution_count": 24,
   "id": "2bc3cd0c",
   "metadata": {},
   "outputs": [
    {
     "data": {
      "image/png": "[encoded data removed]",
      "text/plain": [
       "<Figure size 640x480 with 1 Axes>"
      ]
     },
     "metadata": {},
     "output_type": "display_data"
    }
   ],
   "source": [
    "# Visualization for Age group.\n",
    "bar_age_grp = master_merge['age_group'].value_counts().plot.bar()"
   ]
  },
  {
   "cell_type": "markdown",
   "id": "5ff547c5",
   "metadata": {},
   "source": [
    "Above shows age groups by the millions."
   ]
  },
  {
   "cell_type": "code",
   "execution_count": 25,
   "id": "84144793",
   "metadata": {},
   "outputs": [
    {
     "data": {
      "image/png": "[encoded data removed]",
      "text/plain": [
       "<Figure size 640x480 with 1 Axes>"
      ]
     },
     "metadata": {},
     "output_type": "display_data"
    }
   ],
   "source": [
    "# Visualization for pet owners in departments.\n",
    "bar_pet_owner = master_merge['pet_owner'].value_counts().plot.bar()"
   ]
  },
  {
   "cell_type": "markdown",
   "id": "6f32b53b",
   "metadata": {},
   "source": [
    "Above shows the pet owners in millions."
   ]
  },
  {
   "cell_type": "code",
   "execution_count": 26,
   "id": "1b556b69",
   "metadata": {},
   "outputs": [
    {
     "data": {
      "image/png": "[encoded data removed]",
      "text/plain": [
       "<Figure size 640x480 with 1 Axes>"
      ]
     },
     "metadata": {},
     "output_type": "display_data"
    }
   ],
   "source": [
    "# Visualization for dependants.\n",
    "bar_depnts = master_merge['dependants'].value_counts().plot.bar()"
   ]
  },
  {
   "cell_type": "markdown",
   "id": "34ae6301",
   "metadata": {},
   "source": [
    "Above shows dependants in millions."
   ]
  },
  {
   "cell_type": "code",
   "execution_count": 27,
   "id": "18cb8bbf",
   "metadata": {},
   "outputs": [
    {
     "data": {
      "text/plain": [
       "<function matplotlib.pyplot.show(close=None, block=None)>"
      ]
     },
     "execution_count": 27,
     "metadata": {},
     "output_type": "execute_result"
    },
    {
     "data": {
      "image/png": "[encoded data removed]",
      "text/plain": [
       "<Figure size 640x480 with 1 Axes>"
      ]
     },
     "metadata": {},
     "output_type": "display_data"
    }
   ],
   "source": [
    "# Pie visualization for customer profile.\n",
    "pie_cust_prof = master_merge['customer_profile'].value_counts().plot.pie()\n",
    "plt.title('Customer Profiles')\n",
    "plt.show"
   ]
  },
  {
   "cell_type": "markdown",
   "id": "da7a94c1",
   "metadata": {},
   "source": [
    "## 7. Aggregating min, max and mean values on customer profiles for usage frequency and expenditure."
   ]
  },
  {
   "cell_type": "code",
   "execution_count": 28,
   "id": "ce76840d",
   "metadata": {},
   "outputs": [
    {
     "data": {
      "text/html": [
       "<div>\n",
       "<style scoped>\n",
       "    .dataframe tbody tr th:only-of-type {\n",
       "        vertical-align: middle;\n",
       "    }\n",
       "\n",
       "    .dataframe tbody tr th {\n",
       "        vertical-align: top;\n",
       "    }\n",
       "\n",
       "    .dataframe thead tr th {\n",
       "        text-align: left;\n",
       "    }\n",
       "\n",
       "    .dataframe thead tr:last-of-type th {\n",
       "        text-align: right;\n",
       "    }\n",
       "</style>\n",
       "<table border=\"1\" class=\"dataframe\">\n",
       "  <thead>\n",
       "    <tr>\n",
       "      <th></th>\n",
       "      <th colspan=\"3\" halign=\"left\">days_since_prior_order</th>\n",
       "    </tr>\n",
       "    <tr>\n",
       "      <th></th>\n",
       "      <th>mean</th>\n",
       "      <th>min</th>\n",
       "      <th>max</th>\n",
       "    </tr>\n",
       "    <tr>\n",
       "      <th>customer_profile</th>\n",
       "      <th></th>\n",
       "      <th></th>\n",
       "      <th></th>\n",
       "    </tr>\n",
       "  </thead>\n",
       "  <tbody>\n",
       "    <tr>\n",
       "      <th>Elderly parent</th>\n",
       "      <td>11.107516</td>\n",
       "      <td>0.0</td>\n",
       "      <td>30.0</td>\n",
       "    </tr>\n",
       "    <tr>\n",
       "      <th>Elderly w/ no children</th>\n",
       "      <td>11.047780</td>\n",
       "      <td>0.0</td>\n",
       "      <td>30.0</td>\n",
       "    </tr>\n",
       "    <tr>\n",
       "      <th>Middle-aged w/ no children</th>\n",
       "      <td>11.044611</td>\n",
       "      <td>0.0</td>\n",
       "      <td>30.0</td>\n",
       "    </tr>\n",
       "    <tr>\n",
       "      <th>Middled-aged parent</th>\n",
       "      <td>11.122129</td>\n",
       "      <td>0.0</td>\n",
       "      <td>30.0</td>\n",
       "    </tr>\n",
       "    <tr>\n",
       "      <th>Young adult w/ no children</th>\n",
       "      <td>11.176475</td>\n",
       "      <td>0.0</td>\n",
       "      <td>30.0</td>\n",
       "    </tr>\n",
       "    <tr>\n",
       "      <th>Young parent</th>\n",
       "      <td>11.102184</td>\n",
       "      <td>0.0</td>\n",
       "      <td>30.0</td>\n",
       "    </tr>\n",
       "  </tbody>\n",
       "</table>\n",
       "</div>"
      ],
      "text/plain": [
       "                           days_since_prior_order           \n",
       "                                             mean  min   max\n",
       "customer_profile                                            \n",
       "Elderly parent                          11.107516  0.0  30.0\n",
       "Elderly w/ no children                  11.047780  0.0  30.0\n",
       "Middle-aged w/ no children              11.044611  0.0  30.0\n",
       "Middled-aged parent                     11.122129  0.0  30.0\n",
       "Young adult w/ no children              11.176475  0.0  30.0\n",
       "Young parent                            11.102184  0.0  30.0"
      ]
     },
     "execution_count": 28,
     "metadata": {},
     "output_type": "execute_result"
    }
   ],
   "source": [
    "# Aggregating min, max and mean values on customer profile for usage frequency.\n",
    "master_merge.groupby('customer_profile').agg({'days_since_prior_order': ['mean', 'min', 'max']})"
   ]
  },
  {
   "cell_type": "code",
   "execution_count": 29,
   "id": "e5166533",
   "metadata": {},
   "outputs": [
    {
     "data": {
      "text/html": [
       "<div>\n",
       "<style scoped>\n",
       "    .dataframe tbody tr th:only-of-type {\n",
       "        vertical-align: middle;\n",
       "    }\n",
       "\n",
       "    .dataframe tbody tr th {\n",
       "        vertical-align: top;\n",
       "    }\n",
       "\n",
       "    .dataframe thead tr th {\n",
       "        text-align: left;\n",
       "    }\n",
       "\n",
       "    .dataframe thead tr:last-of-type th {\n",
       "        text-align: right;\n",
       "    }\n",
       "</style>\n",
       "<table border=\"1\" class=\"dataframe\">\n",
       "  <thead>\n",
       "    <tr>\n",
       "      <th></th>\n",
       "      <th colspan=\"3\" halign=\"left\">prices</th>\n",
       "    </tr>\n",
       "    <tr>\n",
       "      <th></th>\n",
       "      <th>mean</th>\n",
       "      <th>min</th>\n",
       "      <th>max</th>\n",
       "    </tr>\n",
       "    <tr>\n",
       "      <th>customer_profile</th>\n",
       "      <th></th>\n",
       "      <th></th>\n",
       "      <th></th>\n",
       "    </tr>\n",
       "  </thead>\n",
       "  <tbody>\n",
       "    <tr>\n",
       "      <th>Elderly parent</th>\n",
       "      <td>11.874287</td>\n",
       "      <td>1.0</td>\n",
       "      <td>99999.0</td>\n",
       "    </tr>\n",
       "    <tr>\n",
       "      <th>Elderly w/ no children</th>\n",
       "      <td>11.429016</td>\n",
       "      <td>1.0</td>\n",
       "      <td>99999.0</td>\n",
       "    </tr>\n",
       "    <tr>\n",
       "      <th>Middle-aged w/ no children</th>\n",
       "      <td>12.711833</td>\n",
       "      <td>1.0</td>\n",
       "      <td>99999.0</td>\n",
       "    </tr>\n",
       "    <tr>\n",
       "      <th>Middled-aged parent</th>\n",
       "      <td>11.856591</td>\n",
       "      <td>1.0</td>\n",
       "      <td>99999.0</td>\n",
       "    </tr>\n",
       "    <tr>\n",
       "      <th>Young adult w/ no children</th>\n",
       "      <td>12.131034</td>\n",
       "      <td>1.0</td>\n",
       "      <td>99999.0</td>\n",
       "    </tr>\n",
       "    <tr>\n",
       "      <th>Young parent</th>\n",
       "      <td>12.110895</td>\n",
       "      <td>1.0</td>\n",
       "      <td>99999.0</td>\n",
       "    </tr>\n",
       "  </tbody>\n",
       "</table>\n",
       "</div>"
      ],
      "text/plain": [
       "                               prices              \n",
       "                                 mean  min      max\n",
       "customer_profile                                   \n",
       "Elderly parent              11.874287  1.0  99999.0\n",
       "Elderly w/ no children      11.429016  1.0  99999.0\n",
       "Middle-aged w/ no children  12.711833  1.0  99999.0\n",
       "Middled-aged parent         11.856591  1.0  99999.0\n",
       "Young adult w/ no children  12.131034  1.0  99999.0\n",
       "Young parent                12.110895  1.0  99999.0"
      ]
     },
     "execution_count": 29,
     "metadata": {},
     "output_type": "execute_result"
    }
   ],
   "source": [
    "# Aggregating min, max and mean values on customer profile for expenditure.\n",
    "master_merge.groupby('customer_profile').agg({'prices': ['mean', 'min', 'max']})"
   ]
  },
  {
   "cell_type": "markdown",
   "id": "c2f5b31f",
   "metadata": {},
   "source": [
    "## 8. Compare your customer profiles with regions and departments."
   ]
  },
  {
   "cell_type": "code",
   "execution_count": 30,
   "id": "72e56944",
   "metadata": {},
   "outputs": [],
   "source": [
    "# Creating a crosstab for custom profile on regions.\n",
    "crosstab_cust_region_1 = pd.crosstab(index=master_merge['region'],\n",
    "                            columns=master_merge['customer_profile'],\n",
    "                            normalize=\"index\")"
   ]
  },
  {
   "cell_type": "code",
   "execution_count": 31,
   "id": "605b902d",
   "metadata": {},
   "outputs": [
    {
     "data": {
      "image/png": "[encoded data removed]",
      "text/plain": [
       "<Figure size 640x480 with 1 Axes>"
      ]
     },
     "metadata": {},
     "output_type": "display_data"
    }
   ],
   "source": [
    "# Creating a stacked bar chart for customer_profile by region.\n",
    "cust_prof_region = crosstab_cust_region_1.plot(kind='bar', stacked=True)"
   ]
  },
  {
   "cell_type": "code",
   "execution_count": 32,
   "id": "08d68971",
   "metadata": {},
   "outputs": [],
   "source": [
    "# Creating a crosstab for custom profile on department.\n",
    "crosstab_cust_dept_1 = pd.crosstab(index=master_merge['department'],\n",
    "                            columns=master_merge['customer_profile'],\n",
    "                            normalize=\"index\")"
   ]
  },
  {
   "cell_type": "code",
   "execution_count": 33,
   "id": "b1187423",
   "metadata": {},
   "outputs": [
    {
     "data": {
      "image/png": "[encoded data removed]",
      "text/plain": [
       "<Figure size 640x480 with 1 Axes>"
      ]
     },
     "metadata": {},
     "output_type": "display_data"
    }
   ],
   "source": [
    "# Creating a stacked bar chart for customer_profile by department.\n",
    "cust_prof_dept = crosstab_cust_dept_1.plot(kind='bar', stacked=True)"
   ]
  },
  {
   "cell_type": "markdown",
   "id": "b36d4d3f",
   "metadata": {},
   "source": [
    "## 9. Exporting visualizations to project folder."
   ]
  },
  {
   "cell_type": "code",
   "execution_count": 35,
   "id": "4a7850f2",
   "metadata": {},
   "outputs": [],
   "source": [
    "# Exporting figure to project folder.\n",
    "bar_inc_lev.figure.savefig(os.path.join(path, '04 Analysis','Visualizations', 'bar_income_level.png'))"
   ]
  },
  {
   "cell_type": "code",
   "execution_count": 36,
   "id": "5ffe02e9",
   "metadata": {},
   "outputs": [],
   "source": [
    "# Exporting figure to project folder.\n",
    "bar_age_grp.figure.savefig(os.path.join(path, '04 Analysis','Visualizations', 'bar_age_group.png'))"
   ]
  },
  {
   "cell_type": "code",
   "execution_count": 37,
   "id": "1f181c9c",
   "metadata": {},
   "outputs": [],
   "source": [
    "# Exporting figure to project folder.\n",
    "bar_pet_owner.figure.savefig(os.path.join(path, '04 Analysis','Visualizations', 'bar_pet_owner.png'))"
   ]
  },
  {
   "cell_type": "code",
   "execution_count": 38,
   "id": "dcd82e98",
   "metadata": {},
   "outputs": [],
   "source": [
    "# Exporting figure to project folder.\n",
    "bar_depnts.figure.savefig(os.path.join(path, '04 Analysis','Visualizations', 'bar_dependants.png'))"
   ]
  },
  {
   "cell_type": "code",
   "execution_count": 39,
   "id": "a26f66d7",
   "metadata": {},
   "outputs": [],
   "source": [
    "# Exporting figure to project folder.\n",
    "pie_cust_prof.figure.savefig(os.path.join(path, '04 Analysis','Visualizations', 'pie_customer_profile.png'))"
   ]
  },
  {
   "cell_type": "code",
   "execution_count": 40,
   "id": "2dd9a822",
   "metadata": {},
   "outputs": [],
   "source": [
    "# Exporting figure to project folder.\n",
    "cust_prof_region.figure.savefig(os.path.join(path, '04 Analysis','Visualizations', 'bar_customer_profile_region.png'))"
   ]
  },
  {
   "cell_type": "code",
   "execution_count": 41,
   "id": "04a40f50",
   "metadata": {},
   "outputs": [],
   "source": [
    "# Exporting figure to project folder.\n",
    "cust_prof_dept.figure.savefig(os.path.join(path, '04 Analysis','Visualizations', 'bar_customer_profile_department.png'))"
   ]
  },
  {
   "cell_type": "code",
   "execution_count": null,
   "id": "fea6c30f",
   "metadata": {},
   "outputs": [],
   "source": []
  }
 ],
 "metadata": {
  "kernelspec": {
   "display_name": "Python 3 (ipykernel)",
   "language": "python",
   "name": "python3"
  },
  "language_info": {
   "codemirror_mode": {
    "name": "ipython",
    "version": 3
   },
   "file_extension": ".py",
   "mimetype": "text/x-python",
   "name": "python",
   "nbconvert_exporter": "python",
   "pygments_lexer": "ipython3",
   "version": "3.10.9"
  }
 },
 "nbformat": 4,
 "nbformat_minor": 5
}
