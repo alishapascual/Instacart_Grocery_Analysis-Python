{
 "cells": [
  {
   "cell_type": "code",
   "execution_count": 1,
   "id": "a32548fb",
   "metadata": {},
   "outputs": [],
   "source": [
    "# Importing Libraries\n",
    "import pandas as pd\n",
    "import numpy as np\n",
    "import os\n",
    "import matplotlib.pyplot as plt\n",
    "import seaborn as sns\n",
    "import scipy"
   ]
  },
  {
   "cell_type": "code",
   "execution_count": 2,
   "id": "3abca4d9",
   "metadata": {},
   "outputs": [],
   "source": [
    "# Making a path to the orders_products_aggregated file.\n",
    "path = r'/Users/terencekeys/Downloads/Shawzz Folder/06-2023 Instacart Basket Analysis'"
   ]
  },
  {
   "cell_type": "code",
   "execution_count": 3,
   "id": "561692d9",
   "metadata": {},
   "outputs": [],
   "source": [
    "# Importing the df_merged_4.9.1 pickle file.\n",
    "merged_4_9 = pd.read_pickle(os.path.join(path, '02 Data','Prepared Data', 'df_merged_4.9.1.pkl'))"
   ]
  },
  {
   "cell_type": "markdown",
   "id": "44fe62bb",
   "metadata": {},
   "source": [
    "### Crosstabs in Python"
   ]
  },
  {
   "cell_type": "code",
   "execution_count": 5,
   "id": "2e44881a",
   "metadata": {},
   "outputs": [],
   "source": [
    "# Creating a crosstab.\n",
    "crosstab = pd.crosstab(merged_4_9['days_since_prior_order'], merged_4_9['order_number'], dropna = False)"
   ]
  },
  {
   "cell_type": "code",
   "execution_count": 6,
   "id": "758f65d7",
   "metadata": {},
   "outputs": [],
   "source": [
    "# Copying the crosstab.\n",
    "crosstab.to_clipboard()"
   ]
  }
 ],
 "metadata": {
  "kernelspec": {
   "display_name": "Python 3 (ipykernel)",
   "language": "python",
   "name": "python3"
  },
  "language_info": {
   "codemirror_mode": {
    "name": "ipython",
    "version": 3
   },
   "file_extension": ".py",
   "mimetype": "text/x-python",
   "name": "python",
   "nbconvert_exporter": "python",
   "pygments_lexer": "ipython3",
   "version": "3.10.9"
  }
 },
 "nbformat": 4,
 "nbformat_minor": 5
}
